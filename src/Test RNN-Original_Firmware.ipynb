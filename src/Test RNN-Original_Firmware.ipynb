{
 "cells": [
  {
   "cell_type": "code",
   "execution_count": 1,
   "metadata": {},
   "outputs": [
    {
     "name": "stdout",
     "output_type": "stream",
     "text": [
      "[INFO] [1597815012.033169]: set_control_mode service client is called\n",
      "[INFO] [1597815012.037150]: set_control_mode [['all']] is succeeded\n",
      "[INFO] [1597815012.037845]: set_control_mode service client is called\n",
      "[INFO] [1597815012.040633]: set_control_mode [['all']] is succeeded\n",
      "[INFO] [1597815012.041250]: set_control_mode service client is called\n",
      "[INFO] [1597815012.043835]: set_control_mode [['all']] is succeeded\n",
      "[INFO] [1597815016.044974]: set_robot_controller_parameter service client is called\n",
      "[INFO] [1597815016.046485]: set [softness_override, ['10.0'], ['all']] is succeeded\n",
      "[INFO] [1597815016.046735]: set_robot_controller_parameter service client is called\n",
      "[INFO] [1597815016.047991]: set [softness_override, ['10.0'], ['all']] is succeeded\n",
      "[INFO] [1597815016.048296]: set_robot_controller_parameter service client is called\n",
      "[INFO] [1597815016.049549]: set [softness_override, ['10.0'], ['all']] is succeeded\n",
      "[INFO] [1597815016.049827]: set_robot_controller_parameter service client is called\n",
      "[INFO] [1597815016.050958]: set [velocity_override, ['10.0'], ['all']] is succeeded\n",
      "[INFO] [1597815016.051193]: set_robot_controller_parameter service client is called\n",
      "[INFO] [1597815016.052335]: set [velocity_override, ['10.0'], ['all']] is succeeded\n",
      "[INFO] [1597815016.052625]: set_robot_controller_parameter service client is called\n",
      "[INFO] [1597815016.053794]: set [velocity_override, ['10.0'], ['all']] is succeeded\n"
     ]
    }
   ],
   "source": [
    "import torch\n",
    "import torch.nn as nn\n",
    "import torch.optim as optim\n",
    "import torch.nn.functional as F\n",
    "\n",
    "from termcolor import colored\n",
    "from enum import Enum\n",
    "\n",
    "from __future__ import print_function\n",
    "import sys, os, time, pickle, rospy\n",
    "\n",
    "from enum import Enum\n",
    "from torobo_driver import torobo_easy_command\n",
    "\n",
    "import numpy as np\n",
    "from scipy import signal\n",
    "import scipy\n",
    "\n",
    "from sensor_msgs.msg import Image\n",
    "from cv_bridge import CvBridge, CvBridgeError\n",
    "import cv2\n",
    "\n",
    "import matplotlib.pyplot as plt\n",
    "import matplotlib.patches as patches\n",
    "\n",
    "# wrapper/helper functions\n",
    "sys.path.insert(0, '/home/torobo/catkin_ws/src/torobo_robot/torobo_rnn/scripts')\n",
    "sys.path.insert(0, '/home/torobo/catkin_ws/src/tutorial/PyTorch-YOLOv3')\n",
    "\n",
    "image_topic = \"/camera/color/image_raw\" # Real-Robot\n",
    "\n",
    "from torobo_rnn_utils__upd3 import *\n",
    "from detect_upd import Recog, Recog2\n",
    "# from adjustExtForce_v3Controller import ExtForce\n",
    "\n",
    "plt.switch_backend('nbAgg')\n",
    "\n",
    "bridge = CvBridge()\n",
    "torobo = ToroboOperator()\n",
    "\n",
    "\"\"\" SET DYNAMICS PARAMETERS FOR THE ***POSITION*** REGIME  \"\"\"\n",
    "torobo.set_control_mode(ToroboOperator.TORSO_HEAD, 'all', 'position')\n",
    "torobo.set_control_mode(ToroboOperator.LEFT_ARM, 'all', 'position')\n",
    "torobo.set_control_mode(ToroboOperator.RIGHT_ARM, 'all', 'position')\n",
    "time.sleep(4)\n",
    "\n",
    "set_softness_override(torobo, 10.0)\n",
    "set_velocity_override(torobo, 10.0)\n",
    "time.sleep(1)"
   ]
  },
  {
   "cell_type": "code",
   "execution_count": 4,
   "metadata": {},
   "outputs": [
    {
     "name": "stdout",
     "output_type": "stream",
     "text": [
      "[INFO] [1597727593.161600]: set_control_mode service client is called\n",
      "[INFO] [1597727593.165629]: set_control_mode [['all']] is succeeded\n",
      "[INFO] [1597727593.166494]: set_control_mode service client is called\n",
      "[INFO] [1597727593.170452]: set_control_mode [['all']] is succeeded\n"
     ]
    }
   ],
   "source": [
    "# # \"\"\" SET DYNAMICS PARAMETERS FOR THE ***EXTERNAL FORCE FOLLOWING*** REGIME  \"\"\"\n",
    "torobo.set_control_mode(ToroboOperator.LEFT_ARM, 'all', 'external_force_following');\n",
    "torobo.set_control_mode(ToroboOperator.RIGHT_ARM, 'all', 'external_force_following');"
   ]
  },
  {
   "cell_type": "code",
   "execution_count": 3,
   "metadata": {},
   "outputs": [
    {
     "data": {
      "text/plain": [
       "{0: ['left_arm/joint_1',\n",
       "  'left_arm/joint_2',\n",
       "  'left_arm/joint_3',\n",
       "  'left_arm/joint_4',\n",
       "  'left_arm/joint_5',\n",
       "  'left_arm/joint_6'],\n",
       " 1: ['right_arm/joint_1',\n",
       "  'right_arm/joint_2',\n",
       "  'right_arm/joint_3',\n",
       "  'right_arm/joint_4',\n",
       "  'right_arm/joint_5',\n",
       "  'right_arm/joint_6'],\n",
       " 2: ['torso_head/joint_1',\n",
       "  'torso_head/joint_2',\n",
       "  'torso_head/joint_3',\n",
       "  'torso_head/joint_4'],\n",
       " 3: ['left_gripper/finger_joint'],\n",
       " 4: ['right_gripper/finger_joint']}"
      ]
     },
     "execution_count": 3,
     "metadata": {},
     "output_type": "execute_result"
    }
   ],
   "source": [
    "# torobo._ToroboOperator__JOINT_NAME_LIST"
   ]
  },
  {
   "cell_type": "code",
   "execution_count": null,
   "metadata": {},
   "outputs": [],
   "source": []
  },
  {
   "cell_type": "code",
   "execution_count": 2,
   "metadata": {},
   "outputs": [
    {
     "name": "stdout",
     "output_type": "stream",
     "text": [
      "[INFO] [1597815017.067842]: set_control_mode service client is called\n",
      "[INFO] [1597815017.070027]: set_control_mode [['all']] is succeeded\n",
      "[INFO] [1597815017.070452]: set_control_mode service client is called\n",
      "[INFO] [1597815017.072272]: set_control_mode [['all']] is succeeded\n",
      "[INFO] [1597815017.072659]: set_control_mode service client is called\n",
      "[INFO] [1597815017.074254]: set_control_mode [['torso_head/joint_3', 'torso_head/joint_4']] is succeeded\n"
     ]
    }
   ],
   "source": [
    "torobo.set_control_mode(ToroboOperator.LEFT_ARM,\n",
    "                        'all',\n",
    "                        'external_force_following_online_trajectory')\n",
    "\n",
    "torobo.set_control_mode(ToroboOperator.RIGHT_ARM,\n",
    "                        'all',\n",
    "                        'external_force_following_online_trajectory')\n",
    "\n",
    "torobo.set_control_mode(ToroboOperator.TORSO_HEAD,\n",
    "                        ['torso_head/joint_3', 'torso_head/joint_4'],\n",
    "                        'external_force_following_online_trajectory')"
   ]
  },
  {
   "cell_type": "code",
   "execution_count": 3,
   "metadata": {},
   "outputs": [],
   "source": [
    "with open('rad.pickle', 'rb') as f:\n",
    "    RAD = pickle.load(f)"
   ]
  },
  {
   "cell_type": "code",
   "execution_count": 4,
   "metadata": {},
   "outputs": [],
   "source": [
    "# move_homepos(torobo)\n",
    "\n",
    "# with open('rad.pickle', 'rb') as f:\n",
    "#     RAD = pickle.load(f)\n",
    "# ANG = []\n",
    "# ts = time.time()\n",
    "\n",
    "# idx = 0\n",
    "# TIME = 1\n",
    "\n",
    "# left_arm_positions = RAD[idx][0:6]\n",
    "# right_arm_positions = RAD[idx][6:12]\n",
    "# torso_head_positions = RAD[idx][12:16]\n",
    "\n",
    "# torobo.move(ToroboOperator.LEFT_ARM, positions=left_arm_positions, duration=TIME)\n",
    "# torobo.move(ToroboOperator.RIGHT_ARM, positions=left_arm_positions, duration=TIME)\n",
    "# torobo.move(ToroboOperator.TORSO_HEAD, positions=torso_head_positions, duration=TIME)\n",
    "# rospy.sleep(TIME+0.1)\n",
    "# ANG.append((idx, time.time() - ts))\n",
    "\n",
    "# idx = 1\n",
    "# TIME = 2\n",
    "\n",
    "# left_arm_positions = RAD[idx][0:6]\n",
    "# right_arm_positions = RAD[idx][6:12]\n",
    "# torso_head_positions = RAD[idx][12:16]\n",
    "\n",
    "# torobo.move(ToroboOperator.LEFT_ARM, positions=left_arm_positions, duration=TIME)\n",
    "# torobo.move(ToroboOperator.RIGHT_ARM, positions=left_arm_positions, duration=TIME)\n",
    "# torobo.move(ToroboOperator.TORSO_HEAD, positions=torso_head_positions, duration=TIME)\n",
    "# rospy.sleep(TIME+0.1)\n",
    "# ANG.append((idx, time.time() - ts))\n",
    "\n",
    "# idx = 2\n",
    "# TIME = 3\n",
    "\n",
    "# left_arm_positions = RAD[idx][0:6]\n",
    "# right_arm_positions = RAD[idx][6:12]\n",
    "# torso_head_positions = RAD[idx][12:16]\n",
    "\n",
    "# torobo.move(ToroboOperator.LEFT_ARM, positions=left_arm_positions, duration=TIME)\n",
    "# torobo.move(ToroboOperator.RIGHT_ARM, positions=left_arm_positions, duration=TIME)\n",
    "# torobo.move(ToroboOperator.TORSO_HEAD, positions=torso_head_positions, duration=TIME)\n",
    "# rospy.sleep(TIME+0.1)\n",
    "# ANG.append((idx, time.time() - ts))\n",
    "\n",
    "# idx = 3\n",
    "# TIME = 4\n",
    "\n",
    "# left_arm_positions = RAD[idx][0:6]\n",
    "# right_arm_positions = RAD[idx][6:12]\n",
    "# torso_head_positions = RAD[idx][12:16]\n",
    "\n",
    "# torobo.move(ToroboOperator.LEFT_ARM, positions=left_arm_positions, duration=TIME)\n",
    "# torobo.move(ToroboOperator.RIGHT_ARM, positions=left_arm_positions, duration=TIME)\n",
    "# torobo.move(ToroboOperator.TORSO_HEAD, positions=torso_head_positions, duration=TIME)\n",
    "# rospy.sleep(TIME+0.1)\n",
    "# ANG.append((idx, time.time() - ts))\n",
    "\n",
    "# idx = 4\n",
    "# TIME = 3\n",
    "\n",
    "# left_arm_positions = RAD[idx][0:6]\n",
    "# right_arm_positions = RAD[idx][6:12]\n",
    "# torso_head_positions = RAD[idx][12:16]\n",
    "\n",
    "# torobo.move(ToroboOperator.LEFT_ARM, positions=left_arm_positions, duration=TIME)\n",
    "# torobo.move(ToroboOperator.RIGHT_ARM, positions=left_arm_positions, duration=TIME)\n",
    "# torobo.move(ToroboOperator.TORSO_HEAD, positions=torso_head_positions, duration=TIME)\n",
    "# rospy.sleep(TIME+0.1)\n",
    "# ANG.append((idx, time.time() - ts))"
   ]
  },
  {
   "cell_type": "code",
   "execution_count": 5,
   "metadata": {},
   "outputs": [],
   "source": [
    "# idx = 3\n",
    "# TIME = 6\n",
    "\n",
    "# left_arm_positions = RAD[idx][0:6]\n",
    "# right_arm_positions = RAD[idx][6:12]\n",
    "# torso_head_positions = RAD[idx][12:16]\n",
    "\n",
    "# torobo.move(ToroboOperator.LEFT_ARM, positions=left_arm_positions, duration=TIME)\n",
    "# torobo.move(ToroboOperator.RIGHT_ARM, positions=left_arm_positions, duration=TIME)\n",
    "# torobo.move(ToroboOperator.TORSO_HEAD, positions=torso_head_positions, duration=TIME)\n",
    "# rospy.sleep(TIME+0.1)"
   ]
  },
  {
   "cell_type": "code",
   "execution_count": 10,
   "metadata": {},
   "outputs": [],
   "source": [
    "# Go Home\n",
    "with HiddenPrints():\n",
    "    servo_on(torobo)\n",
    "\n",
    "    idx = 4\n",
    "    TIME = 6\n",
    "\n",
    "    set_softness_override(torobo, 10.0)\n",
    "    set_velocity_override(torobo, 10.0)\n",
    "\n",
    "    with open('rad.pickle', 'rb') as f:\n",
    "        RAD = pickle.load(f)\n",
    "\n",
    "    left_arm_positions = RAD[idx][0:6]\n",
    "    right_arm_positions = RAD[idx][6:12]\n",
    "    torso_head_positions = RAD[idx][12:16]\n",
    "\n",
    "    torobo.move(ToroboOperator.LEFT_ARM, positions=left_arm_positions, duration=TIME)\n",
    "    torobo.move(ToroboOperator.RIGHT_ARM, positions=left_arm_positions, duration=TIME)\n",
    "    torobo.move(ToroboOperator.TORSO_HEAD, positions=torso_head_positions, duration=TIME)\n",
    "    rospy.sleep(TIME+0.1)\n",
    "pos, vel = get_cur_joints(torobo)"
   ]
  },
  {
   "cell_type": "code",
   "execution_count": null,
   "metadata": {},
   "outputs": [],
   "source": []
  },
  {
   "cell_type": "code",
   "execution_count": 11,
   "metadata": {},
   "outputs": [],
   "source": [
    "# fname = '/home/torobo/catkin_ws/src/tutorial/src/joints/DS_no track_3 ds/DS_no tracking 3 ds.dat'\n",
    "fname = 'DS.dat'\n",
    "\n",
    "\n",
    "with open(fname, 'rb') as f:\n",
    "    dat = pickle.load(f)\n",
    "    \n",
    "IMG = dat['img']\n",
    "joints = dat['joints']\n",
    "times = dat['t']\n",
    "\n",
    "start_idx = np.argmin(np.abs(dat['t']-0.0))\n",
    "stop_idx = np.argmin(np.abs(dat['t']-194.12))\n",
    "\n",
    "IMG = dat['img'][start_idx:stop_idx, :,:,:]\n",
    "joints = dat['joints'][start_idx:stop_idx, :]\n",
    "times = dat['t'][start_idx:stop_idx]\n",
    "\n",
    "\n",
    "\n",
    "joints /= 4.0\n",
    "\n",
    "img = np.stack(IMG)\n",
    "img = img.transpose(0,3,1,2) #B x C x H x W\n",
    "img = img[:,0,:,:]           # select only the red channel\n",
    "img = img[:,None, :,:]       # squeeze the tensor\n",
    "visual_input = torch.tensor(img, dtype=torch.float).cuda()\n",
    "\n",
    "# prepare visual targets (they should be the same as the inputs only one step ahead)\n",
    "visual_target = np.roll(img, -1, axis=0)\n",
    "visual_target = torch.tensor(visual_target, dtype=torch.float).cuda()\n",
    "\n",
    "motor_input = torch.tensor(joints, dtype=torch.float).cuda()\n",
    "\n",
    "target_joints = np.roll(joints, -1, axis=0)\n",
    "motor_target = torch.tensor(target_joints, dtype=torch.float).cuda()\n"
   ]
  },
  {
   "cell_type": "code",
   "execution_count": 12,
   "metadata": {},
   "outputs": [
    {
     "data": {
      "text/plain": [
       "<All keys matched successfully>"
      ]
     },
     "execution_count": 12,
     "metadata": {},
     "output_type": "execute_result"
    }
   ],
   "source": [
    "from RNN import RNN, vaeRNN\n",
    "\n",
    "\n",
    "input_size  = 46\n",
    "hidden_size = 46\n",
    "output_size = 46\n",
    "cell_type = 'GRU'\n",
    "\n",
    "criterion = nn.MSELoss()\n",
    "\n",
    "rnn = RNN(cell_type, input_size, hidden_size, output_size).cuda() #noVAE\n",
    "# rnn = vaeRNN(cell_type, input_size, hidden_size, output_size, False).cuda()\n",
    "\n",
    "# rnn.load_state_dict(torch.load('checkpoint_ww'))\n",
    "# rnn.load_state_dict(torch.load('checkpoint_ss'))\n",
    "rnn.load_state_dict(torch.load('checkpoint_overnight_90_10')) # BEST\n",
    "# rnn.load_state_dict(torch.load('checkpoint_vaeRNN_1K_iter_noBIG_mse'))\n",
    "# rnn.load_state_dict(torch.load('checkpoint_vaeRNN_400K_iter_noBIG_mse'))\n",
    "\n",
    "# rnn.load_state_dict(torch.load('checkpoint'))\n",
    "\n"
   ]
  },
  {
   "cell_type": "code",
   "execution_count": 13,
   "metadata": {},
   "outputs": [],
   "source": [
    "if not 'imagebuff' in locals():\n",
    "    imagebuff = 0\n",
    "    def image_callback(msg):\n",
    "        global imagebuff\n",
    "        imagebuff = bridge.imgmsg_to_cv2(msg, \"rgb8\") \n",
    "    rospy.Subscriber(\"/camera/color/image_raw\", Image, image_callback)\n",
    "\n",
    "cv2.namedWindow('I see')\n",
    "cv2.setWindowProperty(\"I see\", cv2.WND_PROP_FULLSCREEN, cv2.WINDOW_FULLSCREEN)\n",
    "\n",
    "while True:\n",
    "    cv2.imshow('I see', cv2.cvtColor(imagebuff, cv2.COLOR_RGB2BGR))\n",
    "    k = cv2.waitKey(3) & 0XFF\n",
    "    if k== 27 :\n",
    "        cv2.destroyWindow('I see')\n",
    "        break"
   ]
  },
  {
   "cell_type": "code",
   "execution_count": 14,
   "metadata": {},
   "outputs": [],
   "source": [
    "pos, vel = get_cur_joints(torobo)"
   ]
  },
  {
   "cell_type": "code",
   "execution_count": 15,
   "metadata": {},
   "outputs": [
    {
     "name": "stderr",
     "output_type": "stream",
     "text": [
      "[WARN] [1597815629.430654]: [move_arm] trajectory is canceled due to collision\n",
      "[WARN] [1597815629.434258]: [move_arm] trajectory is canceled due to collision\n",
      "[WARN] [1597815708.429965]: [move_arm] trajectory is canceled due to collision\n",
      "[WARN] [1597815708.434124]: [move_arm] trajectory is canceled due to collision\n"
     ]
    }
   ],
   "source": [
    "\"\"\" New steps are based on previously predicted ones \"\"\"\n",
    "tracking = True\n",
    "device = 'cuda'\n",
    "\n",
    "cv2.namedWindow('I see')\n",
    "cv2.setWindowProperty(\"I see\", cv2.WND_PROP_FULLSCREEN, cv2.WINDOW_FULLSCREEN)\n",
    "\n",
    "hidden = rnn.initHidden(device)\n",
    "starting_point = 0\n",
    "\n",
    "\n",
    "DUR = 0.10\n",
    "\n",
    "\n",
    "x = cv2.resize(np.copy(imagebuff), (64, 64), interpolation = cv2.INTER_AREA)\n",
    "y = torch.tensor(x[:,:,0], dtype=torch.float).view(1,1,64,64).cuda()\n",
    "\n",
    "# for plain RNN\n",
    "visual_output, motor_output, hidden = rnn(y, \n",
    "                                  motor_input[starting_point,:].unsqueeze_(0),\n",
    "                                  hidden)\n",
    "\n",
    "# for vaeRNN\n",
    "# visual_output, motor_output, hidden, mu, logsig = rnn(y, \n",
    "#                                                       motor_input[starting_point,:].unsqueeze_(0), \n",
    "#                                                       hidden, True)\n",
    "\n",
    "\n",
    "OUT = motor_output.cpu().detach().numpy() * 4.0\n",
    "\n",
    "left_arm_positions = OUT.reshape(1, 16)[0, 0:6]\n",
    "right_arm_positions = OUT.reshape(1, 16)[0, 6:12]\n",
    "torso_head_positions = OUT.reshape(1, 16)[0, 12:16]\n",
    "torso_head_positions[0:2] = RAD[4][12:14]\n",
    "\n",
    "torobo.move(ToroboOperator.LEFT_ARM, positions=left_arm_positions, duration=DUR+0.01)\n",
    "torobo.move(ToroboOperator.RIGHT_ARM, positions=left_arm_positions, duration=DUR+0.01)\n",
    "if tracking:\n",
    "    torobo.move(ToroboOperator.TORSO_HEAD, positions=torso_head_positions, duration=DUR+0.01)\n",
    "rospy.sleep(DUR)\n",
    "\n",
    "OOO, FF = [], []\n",
    "for i in range(1, visual_input.shape[0]):\n",
    "      \n",
    "    im1 = cv2.resize(visual_input[i,:,:].squeeze().cpu().detach().numpy(), (350, 350), interpolation = cv2.INTER_AREA)\n",
    "    im1 = cv2.normalize(im1, None, alpha=0, beta=1, norm_type=cv2.NORM_MINMAX, dtype=cv2.CV_32F)\n",
    "    \n",
    "    x = cv2.resize(np.copy(imagebuff), (64, 64), interpolation = cv2.INTER_AREA)\n",
    "    y = torch.tensor(x[:,:,0], dtype=torch.float).view(1,1,64,64).cuda()\n",
    "    \n",
    "#     visual_output, motor_output, hidden = rnn(y, \n",
    "#                                   motor_output.view(1,-1),\n",
    "#                                   hidden)\n",
    "    \n",
    "    mixed_motor = (0.5 * torch.tensor(np.radians(pos)/4.0, dtype=torch.float).cuda().view(1,-1) +\n",
    "                   0.5 * motor_output.view(1, -1))\n",
    "\n",
    "    visual_output, motor_output, hidden = rnn(y, mixed_motor, hidden)\n",
    "\n",
    "# for vaeRNN\n",
    "#     visual_output, motor_output, hidden, mu, logsig = rnn(y, \n",
    "#                                   motor_output.view(1,-1),\n",
    "#                                   hidden, True)\n",
    "    \n",
    "    im2 = cv2.resize(visual_output.squeeze().cpu().detach().numpy(), (350, 350), interpolation = cv2.INTER_AREA)\n",
    "    im2 = cv2.normalize(im2, None, alpha=0, beta=1, norm_type=cv2.NORM_MINMAX, dtype=cv2.CV_32F)\n",
    "    \n",
    "    im3 = cv2.resize(imagebuff, (350, 350), interpolation = cv2.INTER_AREA)\n",
    "    im3 = cv2.normalize(im3, None, alpha=0, beta=1, norm_type=cv2.NORM_MINMAX, dtype=cv2.CV_32F)\n",
    "    \n",
    "    final_frame = cv2.hconcat((im3[:,:,2], im2))\n",
    "    cv2.imshow('I see', final_frame)\n",
    "    FF.append(final_frame)\n",
    "\n",
    "    k = cv2.waitKey(3) & 0XFF\n",
    "    if k== 27 :\n",
    "        cv2.destroyWindow('I see')\n",
    "        break\n",
    "    i += 1\n",
    "        \n",
    "    OUT = motor_output.cpu().detach().numpy() * 4.0\n",
    "\n",
    "    left_arm_positions = OUT.reshape(1, 16)[0, 0:6]\n",
    "    right_arm_positions = OUT.reshape(1, 16)[0, 6:12]\n",
    "    if tracking:\n",
    "        torso_head_positions = OUT.reshape(1, 16)[0, 12:16]              # !!!!!!!!!!!!!!!!!!!!!!!!!!\n",
    "        torso_head_positions[0:2] = RAD[4][12:14]\n",
    "\n",
    "    torobo.move(ToroboOperator.LEFT_ARM, positions=left_arm_positions, duration=DUR+0.01)\n",
    "    torobo.move(ToroboOperator.RIGHT_ARM, positions=left_arm_positions, duration=DUR+0.01)\n",
    "    if tracking:\n",
    "        torobo.move(ToroboOperator.TORSO_HEAD, positions=torso_head_positions, duration=DUR+0.01)\n",
    "    rospy.sleep(DUR)\n",
    "    \n",
    "    \n",
    "    pos, vel = get_cur_joints(torobo)\n",
    "    OOO.append((np.radians(pos), motor_output.cpu().detach().numpy() * 4.0))\n"
   ]
  },
  {
   "cell_type": "code",
   "execution_count": 16,
   "metadata": {},
   "outputs": [],
   "source": [
    "import imageio\n",
    "imageio.mimwrite('output_filename.mp4', np.stack(FF) , fps=10)"
   ]
  },
  {
   "cell_type": "code",
   "execution_count": 14,
   "metadata": {},
   "outputs": [
    {
     "data": {
      "text/plain": [
       "<matplotlib.legend.Legend at 0x7f23c8bb0c90>"
      ]
     },
     "execution_count": 14,
     "metadata": {},
     "output_type": "execute_result"
    },
    {
     "data": {
      "image/png": "[encoded data removed]",
      "text/plain": [
       "<Figure size 1080x360 with 1 Axes>"
      ]
     },
     "metadata": {},
     "output_type": "display_data"
    }
   ],
   "source": [
    "%matplotlib inline\n",
    "joint = 0\n",
    "\n",
    "\n",
    "gt = [line[0][joint] for line in OOO]\n",
    "pred = [line[1][joint] for line in OOO]\n",
    "\n",
    "t = np.arange(0, len(OOO)/10.0, 0.1)\n",
    "plt.figure(figsize=(15,5))\n",
    "plt.plot(t, gt, label='measured angle')\n",
    "plt.plot(t, pred, label='predicted angle')\n",
    "plt.grid()\n",
    "plt.xlabel('Time,s')\n",
    "plt.ylabel('Angle, rad')\n",
    "plt.legend()\n",
    "\n",
    "\n"
   ]
  },
  {
   "cell_type": "code",
   "execution_count": null,
   "metadata": {},
   "outputs": [],
   "source": []
  },
  {
   "cell_type": "code",
   "execution_count": 21,
   "metadata": {},
   "outputs": [],
   "source": [
    "DUR = 4\n",
    "torso_head_positions = np.array([0, np.radians(40), 0, np.radians(20)])\n",
    "torobo.move(ToroboOperator.TORSO_HEAD, positions=torso_head_positions, duration=DUR+0.05)"
   ]
  },
  {
   "cell_type": "code",
   "execution_count": null,
   "metadata": {},
   "outputs": [],
   "source": []
  },
  {
   "cell_type": "code",
   "execution_count": 22,
   "metadata": {},
   "outputs": [
    {
     "ename": "TypeError",
     "evalue": "initHidden() takes exactly 2 arguments (1 given)",
     "output_type": "error",
     "traceback": [
      "\u001b[0;31m\u001b[0m",
      "\u001b[0;31mTypeError\u001b[0mTraceback (most recent call last)",
      "\u001b[0;32m<ipython-input-22-9f88590ec8b6>\u001b[0m in \u001b[0;36m<module>\u001b[0;34m()\u001b[0m\n\u001b[1;32m      1\u001b[0m \u001b[0;34m\"\"\" New steps NOT based on previously predicted ones \"\"\"\u001b[0m\u001b[0;34m\u001b[0m\u001b[0m\n\u001b[1;32m      2\u001b[0m \u001b[0;34m\u001b[0m\u001b[0m\n\u001b[0;32m----> 3\u001b[0;31m \u001b[0mhidden\u001b[0m \u001b[0;34m=\u001b[0m \u001b[0mrnn\u001b[0m\u001b[0;34m.\u001b[0m\u001b[0minitHidden\u001b[0m\u001b[0;34m(\u001b[0m\u001b[0;34m)\u001b[0m\u001b[0;34m\u001b[0m\u001b[0m\n\u001b[0m\u001b[1;32m      4\u001b[0m \u001b[0mstarting_point\u001b[0m \u001b[0;34m=\u001b[0m \u001b[0;36m0\u001b[0m\u001b[0;34m\u001b[0m\u001b[0m\n\u001b[1;32m      5\u001b[0m \u001b[0mDUR\u001b[0m \u001b[0;34m=\u001b[0m \u001b[0;36m0.2\u001b[0m\u001b[0;34m\u001b[0m\u001b[0m\n",
      "\u001b[0;31mTypeError\u001b[0m: initHidden() takes exactly 2 arguments (1 given)"
     ]
    }
   ],
   "source": [
    "\"\"\" New steps NOT based on previously predicted ones \"\"\"\n",
    "\n",
    "hidden = rnn.initHidden()\n",
    "starting_point = 0\n",
    "DUR = 0.2\n",
    "\n",
    "\n",
    "for i in range(visual_input.shape[0]):\n",
    "    \n",
    "    visual_output, motor_output, hidden = rnn(visual_input[i,:,:,].unsqueeze_(0), \n",
    "                                  motor_input[i,:].view(1,-1),\n",
    "                                  hidden)\n",
    "    \n",
    "    OUT = motor_output.cpu().detach().numpy() * 4.0\n",
    "\n",
    "    left_arm_positions = OUT[0:6]\n",
    "    right_arm_positions = OUT[6:12]\n",
    "    torso_head_positions = OUT[12:16]\n",
    "\n",
    "    torobo.move(ToroboOperator.LEFT_ARM, positions=left_arm_positions, duration=DUR+0.05)\n",
    "    torobo.move(ToroboOperator.RIGHT_ARM, positions=left_arm_positions, duration=DUR+0.05)\n",
    "    torobo.move(ToroboOperator.TORSO_HEAD, positions=torso_head_positions, duration=DUR+0.05)\n",
    "    rospy.sleep(DUR)"
   ]
  },
  {
   "cell_type": "code",
   "execution_count": null,
   "metadata": {},
   "outputs": [],
   "source": []
  }
 ],
 "metadata": {
  "kernelspec": {
   "display_name": "Python 2",
   "language": "python",
   "name": "python2"
  },
  "language_info": {
   "codemirror_mode": {
    "name": "ipython",
    "version": 2
   },
   "file_extension": ".py",
   "mimetype": "text/x-python",
   "name": "python",
   "nbconvert_exporter": "python",
   "pygments_lexer": "ipython2",
   "version": "2.7.12"
  }
 },
 "nbformat": 4,
 "nbformat_minor": 2
}
