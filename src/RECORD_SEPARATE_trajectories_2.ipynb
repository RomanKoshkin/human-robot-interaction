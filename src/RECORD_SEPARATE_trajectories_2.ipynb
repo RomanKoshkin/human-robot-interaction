{
 "cells": [
  {
   "cell_type": "code",
   "execution_count": null,
   "metadata": {},
   "outputs": [],
   "source": [
    "\"\"\"\n",
    "- BUILDS SEVERAL TRAJECTORIES BASED ON CAPTURED WAYPOINTS, SAVES THEM INTO A RADA FILE\n",
    "- REPLAYS ALL THE TRAJECTORIES (WITH SHORT PAUSES TO REPOSITION THE CUBE), WHILE DENSELY RECORDING \n",
    "  JOINT ANGLES AND VIDEO FRAMES. RECORDS INTO 'RAD0.dat', 'RAD1.dat' FILES\n",
    "      DICTIONARIES WITH KEYS ('joints', 'igm', 't')\n",
    "- ALLOWS ONE TO SEE VIDEO AND JOINT ANGLES FROM RECORDED TRAJECTORIES\n",
    "\"\"\""
   ]
  },
  {
   "cell_type": "code",
   "execution_count": 1,
   "metadata": {},
   "outputs": [],
   "source": [
    "from __future__ import print_function\n",
    "import sys, os\n",
    "import time\n",
    "import pickle\n",
    "import rospy\n",
    "import numpy as np\n",
    "from scipy import signal\n",
    "import scipy\n",
    "from sensor_msgs.msg import Image\n",
    "from cv_bridge import CvBridge, CvBridgeError\n",
    "import cv2\n",
    "\n",
    "import matplotlib.pyplot as plt\n",
    "import matplotlib.patches as patches\n",
    "\n",
    "# wrapper/helper functions\n",
    "sys.path.insert(0, '/home/torobo/catkin_ws/src/torobo_robot/torobo_rnn/scripts')\n",
    "sys.path.insert(0, '/home/torobo/catkin_ws/src/tutorial/PyTorch-YOLOv3')\n",
    "from torobo_rnn_utils__upd3 import *\n",
    "from detect_upd import Recog, Recog2\n",
    "from adjustExtForce_v3Controller import ExtForce\n",
    "\n",
    "plt.switch_backend('nbAgg')\n",
    "\n",
    "bridge = CvBridge()\n",
    "torobo = ToroboOperator()\n",
    "        \n",
    "def echo(txt):\n",
    "    sys.stdout.write('\\r {}'.format(txt))\n",
    "    sys.stdout.flush()\n",
    "    \n",
    "class NewRec(threading.Thread):\n",
    "\n",
    "    \"\"\" RECORDS A DATASET FOR THE RNN \"\"\"\n",
    "    \n",
    "    def __init__(self):\n",
    "        threading.Thread.__init__(self)\n",
    "        self.recording = False\n",
    "        self.step = 0.1\n",
    "        self.data = {}\n",
    "    \n",
    "    def run(self):\n",
    "        if self.recording == True:\n",
    "            self.recording = False\n",
    "            print('Killing the previous recorder')\n",
    "            time.sleep(1.5)\n",
    "        self.recording = True\n",
    "        self.record()\n",
    "    \n",
    "    def stop(self):\n",
    "        self.recording = False\n",
    "        time.sleep(1)\n",
    "        print('Recording is {}'.format('ON' if self.is_alive() else 'OFF'))\n",
    "        \n",
    "        self.data['img'] = np.stack(self.data['img'])\n",
    "        self.data['joints'] = np.stack(self.data['joints'])\n",
    "        self.data['t'] = np.stack(self.data['t'])\n",
    "        with open(self.fname, 'wb') as f:\n",
    "            pickle.dump(self.data, f)\n",
    "        print('Data saved')\n",
    "\n",
    "        \n",
    "    def record(self):\n",
    "        global torobo, imagebuff\n",
    "        print('Recording is {}'.format('ON' if self.is_alive() else 'OFF'))\n",
    "        # overwrite\n",
    "        if self.fname in os.listdir(\".\"):\n",
    "            open(self.fname, 'w').close()\n",
    "        t = 0\n",
    "        start_t = time.time()\n",
    "        self.data['joints'] = []\n",
    "        self.data['img'] = []\n",
    "        self.data['t'] = []\n",
    "        while self.recording:\n",
    "            self.data['joints'].append(np.radians(get_cur_joints(torobo)[0]))\n",
    "            self.data['img'].append(cv2.resize(imagebuff, (64,64), interpolation = cv2.INTER_AREA) )\n",
    "            self.data['t'].append(time.time()-start_t)\n",
    "            time.sleep(self.step)\n",
    "            t += self.step\n",
    "\n",
    "class Tracker(threading.Thread):\n",
    "    \"\"\" - LOADS THE YOLO MODEL\n",
    "        - FORWARD PASSES THE FRAME THROUGH THE MODEL\n",
    "        - STORES BOUNDING BOX COORDINATES IN SELF.\n",
    "    \"\"\"\n",
    "    \n",
    "    def __init__(self):\n",
    "        threading.Thread.__init__(self)\n",
    "        \n",
    "        checkpoint = 42\n",
    "        self.recog = Recog2(checkpoint)\n",
    "        \n",
    "        self.x1, self.y1, self.x2, self.y2 = 0.0, 0.0, 0.0, 0.0\n",
    "        self.new_hor = 0\n",
    "        self.new_ver = 0\n",
    "        self.Norm = scipy.stats.norm(0, 20)\n",
    "        self.scale = self.Norm.pdf(0)\n",
    "        \n",
    "        self.keepgoing = False\n",
    "\n",
    "    def stop(self):\n",
    "        self.keepgoing = False\n",
    "\n",
    "    def get_gaze_offset(self, cx, cy):\n",
    "        return 640/2 - cx, 480/2 - cy\n",
    "    \n",
    "    def get_gaze_grad(self, offset_x, offset_y):\n",
    "        ex = 0.2 * np.tanh(0.025*(offset_x))/ (1+self.Norm.pdf(offset_x)/self.scale*4)\n",
    "        ey = 0.2 * np.tanh(0.025*(offset_y))/ (1+self.Norm.pdf(offset_x)/self.scale*4)\n",
    "        return ex, ey\n",
    "\n",
    "    def get_box_center(self, x1, y1, box_w, box_h):\n",
    "        return x1 + box_w/2, y1 + box_h/2\n",
    "\n",
    "    def track_obj(self, x,y,w,h):\n",
    "        global torobo\n",
    "        cx, cy = self.get_box_center(x, y, w, h)\n",
    "        gaze_offset = self.get_gaze_offset(cx,cy)\n",
    "        ex, ey = self.get_gaze_grad(*gaze_offset)\n",
    "        hor, ver = get_cur_joints(torobo)[0][14:16]\n",
    "        self.new_hor, self.new_ver = np.radians(hor)+ex, np.radians(ver)-ey\n",
    "\n",
    "    def run(self):\n",
    "        global imagebuff\n",
    "        self.keepgoing = True\n",
    "        while True and self.keepgoing:\n",
    "            detections = self.recog.detect(imagebuff)\n",
    "            if detections is not None:\n",
    "                for det in detections:\n",
    "                    for x1, y1, x2, y2, conf, cls_conf, cls_pred in detections:\n",
    "                        if cls_pred == 0:\n",
    "                            box_w = x2 - x1\n",
    "                            box_h = y2 - y1\n",
    "                            self.x1, self.y1, self.x2, self.y2 = x1, y1, x2, y2\n",
    "                            x, y, w, h = x1, y1, box_w, box_h\n",
    "                            self.track_obj(x, y, w, h)"
   ]
  },
  {
   "cell_type": "code",
   "execution_count": 2,
   "metadata": {},
   "outputs": [
    {
     "name": "stdout",
     "output_type": "stream",
     "text": [
      "\u001b[42m\u001b[37mSUCCESS\u001b[0m\n",
      "SETTING MODE: set_external_force_following_online_trajectory_control\n",
      "SETTING DYNAMIC PARAMETERS\n",
      "OVERRIDES SET\n"
     ]
    }
   ],
   "source": [
    "with HiddenPrints():\n",
    "    servo_on(torobo)"
   ]
  },
  {
   "cell_type": "code",
   "execution_count": 3,
   "metadata": {},
   "outputs": [],
   "source": [
    "\"\"\" TURN ON VIDEOSTREAMING FROM THE ROBOT'S CAMERA \"\"\"\n",
    "\n",
    "SRATE = 10\n",
    "\"\"\" REPLAY @ 5 HZ, RECORD AT 10 HZ \"\"\"\n",
    "INTERVAL = 0.2\n",
    "tracking = True\n",
    "\n",
    "\n",
    "try:\n",
    "    with HiddenPrints():\n",
    "        if not 'imagebuff' in locals():\n",
    "            imagebuff = 0\n",
    "            def image_callback(msg):\n",
    "                global imagebuff\n",
    "                imagebuff = bridge.imgmsg_to_cv2(msg, \"rgb8\") \n",
    "            rospy.Subscriber(\"/camera/color/image_raw\", Image, image_callback)\n",
    "\n",
    "        set_velocity_override(torobo, 30.0)\n",
    "        time.sleep(1)\n",
    "    \n",
    "    print('SUCCESS')\n",
    "except:\n",
    "    print('ERROR')"
   ]
  },
  {
   "cell_type": "code",
   "execution_count": null,
   "metadata": {},
   "outputs": [],
   "source": [
    "# BUILDS SEVERAL TRAJECTORIES BASED ON CAPTURED WAYPOINTS, SAVES THEM INTO A RADA FILE"
   ]
  },
  {
   "cell_type": "code",
   "execution_count": 6,
   "metadata": {},
   "outputs": [],
   "source": [
    "# Create a dictionary to hold the future data\n",
    "RADA = {}"
   ]
  },
  {
   "cell_type": "code",
   "execution_count": 7,
   "metadata": {},
   "outputs": [
    {
     "name": "stdout",
     "output_type": "stream",
     "text": [
      "[INFO] [1595741157.213540]: set_control_mode service client is called\n",
      "[INFO] [1595741157.221349]: set_control_mode [['all']] is succeeded\n",
      "[INFO] [1595741157.222658]: set_control_mode service client is called\n",
      "[INFO] [1595741157.227448]: set_control_mode [['all']] is succeeded\n"
     ]
    }
   ],
   "source": [
    "# Go to the START position\n",
    "idx = 4\n",
    "TIME = 3\n",
    "torobo.set_control_mode(ToroboOperator.LEFT_ARM, 'all', 'position')\n",
    "torobo.set_control_mode(ToroboOperator.RIGHT_ARM, 'all', 'position')\n",
    "with open('rad.pickle', 'rb') as f:\n",
    "    RAD = pickle.load(f)\n",
    "    \n",
    "left_arm_positions = RAD[idx][0:6]\n",
    "right_arm_positions = RAD[idx][6:12]\n",
    "torso_head_positions = RAD[idx][12:16]\n",
    "\n",
    "torobo.move(ToroboOperator.LEFT_ARM, positions=left_arm_positions, duration=TIME)\n",
    "torobo.move(ToroboOperator.RIGHT_ARM, positions=left_arm_positions, duration=TIME)\n",
    "torobo.move(ToroboOperator.TORSO_HEAD, positions=torso_head_positions, duration=TIME)\n",
    "rospy.sleep(TIME+0.1)"
   ]
  },
  {
   "cell_type": "code",
   "execution_count": 70,
   "metadata": {},
   "outputs": [
    {
     "name": "stdout",
     "output_type": "stream",
     "text": [
      "[INFO] [1594602984.053188]: set_control_mode service client is called\n",
      "[INFO] [1594602984.055639]: set_control_mode [['all']] is succeeded\n",
      "[INFO] [1594602984.056050]: set_control_mode service client is called\n",
      "[INFO] [1594602984.057633]: set_control_mode [['all']] is succeeded\n"
     ]
    }
   ],
   "source": [
    "# CREATE AN EMPTY NEW TRAJECTORY\n",
    "traj_name = 'RAD2' # 'RAD0', 'RAD1', 'RAD2'\n",
    "RADA[traj_name] = []\n",
    "torobo.set_control_mode(ToroboOperator.LEFT_ARM, 'all', 'external_force_following')\n",
    "torobo.set_control_mode(ToroboOperator.RIGHT_ARM, 'all', 'external_force_following')"
   ]
  },
  {
   "cell_type": "code",
   "execution_count": 78,
   "metadata": {},
   "outputs": [],
   "source": [
    "# RECORD THE CURRENT WAYPOINT, AND APPEND IT TO THE CURRENT TRAJECTORY\n",
    "cur_pos_deg, _ = get_cur_joints(torobo)\n",
    "cur_pos_rad = np.radians(cur_pos_deg)\n",
    "RADA[traj_name].append(cur_pos_rad)"
   ]
  },
  {
   "cell_type": "code",
   "execution_count": 79,
   "metadata": {},
   "outputs": [
    {
     "data": {
      "text/plain": [
       "5"
      ]
     },
     "execution_count": 79,
     "metadata": {},
     "output_type": "execute_result"
    }
   ],
   "source": [
    "# CHECK THE LENGHT OF THE CURRENT TRAJECTORY\n",
    "len(RADA[traj_name])"
   ]
  },
  {
   "cell_type": "code",
   "execution_count": null,
   "metadata": {},
   "outputs": [],
   "source": []
  },
  {
   "cell_type": "code",
   "execution_count": 82,
   "metadata": {},
   "outputs": [],
   "source": [
    "# SAVE THE WAYPOINTS\n",
    "with open('RADA.pickle', 'wb') as f:\n",
    "    pickle.dump(RADA, f)"
   ]
  },
  {
   "cell_type": "code",
   "execution_count": null,
   "metadata": {},
   "outputs": [],
   "source": []
  },
  {
   "cell_type": "code",
   "execution_count": 97,
   "metadata": {},
   "outputs": [
    {
     "name": "stdout",
     "output_type": "stream",
     "text": [
      "Recording is ON\n",
      "Recording is OFF\n",
      "Data saved\n",
      "Recording is ON\n",
      "Recording is OFF\n",
      "Data saved\n",
      "Recording is ON\n",
      "Recording is OFF\n",
      "Data saved\n"
     ]
    }
   ],
   "source": [
    "# REPLAY ALL THE TRAJECTORIES (WITH SHORT PAUSES TO REPOSITION THE CUBE),\n",
    "# WHILE DENSELY RECORDING JOINT ANGLES AND VIDEO FRAMES\n",
    "\n",
    "# DON'T FOGET TO GO TO THE STARTING POSITION FIRST !\n",
    "SRATE = 10\n",
    "TIME = 3\n",
    "z\n",
    "\n",
    "with HiddenPrints():\n",
    "    torobo.set_control_mode(ToroboOperator.LEFT_ARM, 'all', 'position')\n",
    "    torobo.set_control_mode(ToroboOperator.RIGHT_ARM, 'all', 'position')\n",
    "\n",
    "for traj_name in RADA.keys():\n",
    "    data_rec = NewRec()\n",
    "    data_rec.fname = '{}.dat'.format(traj_name)\n",
    "    data_rec.start()\n",
    "    \n",
    "    for a in [RADA[traj_name][1:], reversed(RADA[traj_name][:-1])]:\n",
    "\n",
    "        for pos in a:\n",
    "            left_arm_positions = pos[0:6]\n",
    "            right_arm_positions = pos[6:12]\n",
    "            torso_head_positions = pos[12:16]\n",
    "\n",
    "            torobo.move(ToroboOperator.LEFT_ARM, positions=left_arm_positions, duration=TIME)\n",
    "            torobo.move(ToroboOperator.RIGHT_ARM, positions=right_arm_positions, duration=TIME)\n",
    "            torobo.move(ToroboOperator.TORSO_HEAD, positions=torso_head_positions, duration=TIME)\n",
    "            rospy.sleep(TIME-0.4)\n",
    "    data_rec.stop()\n",
    "    time.sleep(4)"
   ]
  },
  {
   "cell_type": "code",
   "execution_count": 100,
   "metadata": {},
   "outputs": [],
   "source": []
  },
  {
   "cell_type": "code",
   "execution_count": 2,
   "metadata": {},
   "outputs": [
    {
     "data": {
      "image/png": "[encoded data removed]",
      "text/plain": [
       "<Figure size 432x288 with 1 Axes>"
      ]
     },
     "metadata": {},
     "output_type": "display_data"
    }
   ],
   "source": [
    "# SEE VIDEO FROM RECORDED TRAJECTORIES\n",
    "\n",
    "traj_name = 'RAD2.dat'\n",
    "\n",
    "%matplotlib inline\n",
    "with open(traj_name, 'rb') as f:\n",
    "    DAT = pickle.load(f)\n",
    "    \n",
    "\n",
    "cv2.namedWindow('I see')\n",
    "cv2.setWindowProperty(\"I see\", cv2.WND_PROP_FULLSCREEN, cv2.WINDOW_FULLSCREEN)\n",
    "\n",
    "\n",
    "i = 1\n",
    "\n",
    "while True:\n",
    "    try:\n",
    "        time.sleep(0.1)\n",
    "        img = DAT['img'][i,:,:,:].astype('uint8')\n",
    "        img = np.copy(cv2.cvtColor(img, cv2.COLOR_RGB2BGR))\n",
    "        \n",
    "        cv2.imshow('I see', img)\n",
    "        k = cv2.waitKey(3) & 0XFF\n",
    "        i += 1\n",
    "        if k== 27 :\n",
    "            cv2.destroyWindow('I see')\n",
    "            break\n",
    "    except:\n",
    "        cv2.destroyWindow('I see')\n",
    "        break\n",
    "\n",
    "x = plt.plot(DAT['t'], DAT['joints'])\n",
    "x = plt.title(traj_name)"
   ]
  },
  {
   "cell_type": "code",
   "execution_count": null,
   "metadata": {},
   "outputs": [],
   "source": []
  },
  {
   "cell_type": "code",
   "execution_count": null,
   "metadata": {},
   "outputs": [],
   "source": []
  },
  {
   "cell_type": "code",
   "execution_count": null,
   "metadata": {},
   "outputs": [],
   "source": []
  },
  {
   "cell_type": "code",
   "execution_count": null,
   "metadata": {},
   "outputs": [],
   "source": [
    "# SEE THE VIDEO FEED\n",
    "\n",
    "import cv2\n",
    "import numpy as np\n",
    "import time\n",
    "import pickle\n",
    "\n",
    "\n",
    "cv2.namedWindow('I see')\n",
    "cv2.setWindowProperty(\"I see\", cv2.WND_PROP_FULLSCREEN, cv2.WINDOW_FULLSCREEN)\n",
    "\n",
    "\n",
    "i = 1\n",
    "\n",
    "while True:\n",
    "    try:\n",
    "        time.sleep(0.1)\n",
    "        img = imagebuff.astype('uint8')\n",
    "        img = np.copy(cv2.cvtColor(img, cv2.COLOR_RGB2BGR))\n",
    "        \n",
    "        cv2.imshow('I see', img)\n",
    "        k = cv2.waitKey(3) & 0XFF\n",
    "        i += 1\n",
    "        if k== 27 :\n",
    "            cv2.destroyWindow('I see')\n",
    "            break\n",
    "    except:\n",
    "        cv2.destroyWindow('I see')\n",
    "        break"
   ]
  },
  {
   "cell_type": "code",
   "execution_count": null,
   "metadata": {},
   "outputs": [],
   "source": []
  }
 ],
 "metadata": {
  "kernelspec": {
   "display_name": "Python 2",
   "language": "python",
   "name": "python2"
  },
  "language_info": {
   "codemirror_mode": {
    "name": "ipython",
    "version": 2
   },
   "file_extension": ".py",
   "mimetype": "text/x-python",
   "name": "python",
   "nbconvert_exporter": "python",
   "pygments_lexer": "ipython2",
   "version": "2.7.12"
  }
 },
 "nbformat": 4,
 "nbformat_minor": 2
}
