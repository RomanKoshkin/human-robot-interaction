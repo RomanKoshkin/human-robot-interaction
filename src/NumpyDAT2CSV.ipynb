{
 "cells": [
  {
   "cell_type": "code",
   "execution_count": 2,
   "metadata": {},
   "outputs": [],
   "source": [
    "import numpy as np\n",
    "import pickle"
   ]
  },
  {
   "cell_type": "code",
   "execution_count": 12,
   "metadata": {},
   "outputs": [],
   "source": [
    "with open('RAD2.dat', 'rb') as f:\n",
    "    dat = pickle.load(f)\n",
    "np.savetxt(\"primitive_0_2.csv\", np.degrees(dat['joints']), delimiter=\",\")"
   ]
  },
  {
   "cell_type": "code",
   "execution_count": null,
   "metadata": {},
   "outputs": [],
   "source": []
  },
  {
   "cell_type": "code",
   "execution_count": null,
   "metadata": {},
   "outputs": [],
   "source": []
  },
  {
   "cell_type": "code",
   "execution_count": 3,
   "metadata": {},
   "outputs": [],
   "source": [
    "with open('RAD0_w_head_tracking.dat', 'rb') as f:\n",
    "    dat = pickle.load(f)\n",
    "np.savetxt(\"primitive_0_0.csv\", np.degrees(dat['joints']), delimiter=\",\")"
   ]
  },
  {
   "cell_type": "code",
   "execution_count": 4,
   "metadata": {},
   "outputs": [],
   "source": [
    "with open('RAD1_w_head_tracking.dat', 'rb') as f:\n",
    "    dat = pickle.load(f)\n",
    "np.savetxt(\"primitive_0_1.csv\", np.degrees(dat['joints']), delimiter=\",\")"
   ]
  },
  {
   "cell_type": "code",
   "execution_count": 5,
   "metadata": {},
   "outputs": [],
   "source": [
    "with open('RAD2_w_head_tracking.dat', 'rb') as f:\n",
    "    dat = pickle.load(f)\n",
    "np.savetxt(\"primitive_0_2.csv\", np.degrees(dat['joints']), delimiter=\",\")"
   ]
  },
  {
   "cell_type": "code",
   "execution_count": null,
   "metadata": {},
   "outputs": [],
   "source": []
  }
 ],
 "metadata": {
  "kernelspec": {
   "display_name": "Python 2",
   "language": "python",
   "name": "python2"
  },
  "language_info": {
   "codemirror_mode": {
    "name": "ipython",
    "version": 2
   },
   "file_extension": ".py",
   "mimetype": "text/x-python",
   "name": "python",
   "nbconvert_exporter": "python",
   "pygments_lexer": "ipython2",
   "version": "2.7.12"
  }
 },
 "nbformat": 4,
 "nbformat_minor": 2
}
