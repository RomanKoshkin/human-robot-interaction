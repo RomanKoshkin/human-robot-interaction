{
 "cells": [
  {
   "cell_type": "markdown",
   "metadata": {},
   "source": [
    "## if you want to monitor the progress, just run `training2.py`. It is the same script."
   ]
  },
  {
   "cell_type": "code",
   "execution_count": null,
   "metadata": {},
   "outputs": [],
   "source": [
    "import os\n",
    "import sys\n",
    "\n",
    "import ctypes\n",
    "from NRL import NRL\n",
    "import numpy as np\n",
    "\n",
    "\n",
    "\n",
    "class Training(object):\n",
    "    def __init__(self):\n",
    "       \n",
    "        print('Program begin')        \n",
    "        \n",
    "        # path to config file\n",
    "#         prop_path = \"/home/torobo/catkin_ws/src/tutorial/src/data/config/\" + \"modxp.d\"\n",
    "        prop_path = \"/home/torobo/catkin_ws/src/tutorial/src/data/config/\" + \"modxp2.d\" \n",
    "        # path to where the model will be stored\n",
    "#         model_path = \"/home/torobo/catkin_ws/src/tutorial/src/data/model/\" + \"modxp\"\n",
    "        model_path = \"/home/torobo/catkin_ws/src/tutorial/src/data/model/\" + \"modxp2\"\n",
    "        \n",
    "      \n",
    "       \n",
    "        print(model_path)\n",
    "        try:                        \n",
    "            if not os.path.exists(prop_path):\n",
    "                print (\"Error: the configuration file [%s] does not exist\" % prop_path)\n",
    "                return\n",
    "            if not os.path.exists(model_path):\n",
    "                os.mkdir(model_path)                                    \n",
    "        except OSError:                \n",
    "            print (\"Error: creation of the directory [%s] failed\" % model_path)\n",
    "            return\n",
    "                           \n",
    "        nrl = NRL()\n",
    "        print (\"ok\")\n",
    "        nrl.newModel(prop_path.encode('ascii'))  \n",
    "        print('model created')\n",
    "        nrl.t_init(True)\n",
    "        print('training initialized')\n",
    "        train_buffer = np.zeros((7,), dtype=float)\n",
    "        trainOut = (ctypes.c_float * 7)(*train_buffer)\n",
    "        e_sum = 0\n",
    "        modulus = 100\n",
    "        nTimes = 300\n",
    "\n",
    "        # train for nTimes * modulus times\n",
    "               \n",
    "        for _ in range(nTimes):                \n",
    "                nrl.t_loop(trainOut, modulus)\n",
    "                e_sum = e_sum + modulus\n",
    "           \n",
    "        nrl.t_end()\n",
    "        print('program finished')\n",
    "\n",
    "train = Training()"
   ]
  },
  {
   "cell_type": "code",
   "execution_count": null,
   "metadata": {},
   "outputs": [],
   "source": []
  }
 ],
 "metadata": {
  "kernelspec": {
   "display_name": "Python 2",
   "language": "python",
   "name": "python2"
  },
  "language_info": {
   "codemirror_mode": {
    "name": "ipython",
    "version": 2
   },
   "file_extension": ".py",
   "mimetype": "text/x-python",
   "name": "python",
   "nbconvert_exporter": "python",
   "pygments_lexer": "ipython2",
   "version": "2.7.12"
  }
 },
 "nbformat": 4,
 "nbformat_minor": 2
}
